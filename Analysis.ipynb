{
 "cells": [
  {
   "cell_type": "markdown",
   "id": "a173b493-c6b6-43d1-9369-62a034c9a551",
   "metadata": {},
   "source": [
    "# Black-Litterman Model"
   ]
  },
  {
   "cell_type": "markdown",
   "id": "25829d78-3275-452c-84e2-e745d8ffb742",
   "metadata": {},
   "source": [
    "## Steps\n",
    "1. Define initial weights\n",
    "2. Solve for Covariance Matrix\n",
    "3. Set Risk Aversion to 2.5\n",
    "4. Solve for pi\n",
    "   $ \\pi = \\lambda \\Sigma w_m $\n",
    "5. Set P matrix with asset pair performance predictions\n",
    "6. Solve for Omega\n",
    "   $ \\Omega = diag(P(\\tau \\Sigma)P^T) $\n",
    "7. Solve for Q which is historical returns\n",
    "8. Solve for the expected return\n",
    "   $ E(R) = [(\\tau \\Sigma)^{-1} + P^T \\Omega^{-1} P]^{-1} [(\\tau \\Sigma)^{-1} \\pi + P^T \\Omega^{-1}Q] $\n",
    "9. Solve for weights\n",
    "    $ W = \\dfrac{1}{\\lambda} \\Sigma^{-1}E(R) $"
   ]
  },
  {
   "cell_type": "code",
   "execution_count": 1,
   "id": "66b6e189-399f-464b-8d00-ba9182a560dc",
   "metadata": {},
   "outputs": [],
   "source": [
    "stocks = ['AAPL','MSFT','NVDA']\n",
    "cryptos = ['BTC-USD','ETH-USD']\n",
    "both = stocks + cryptos"
   ]
  },
  {
   "cell_type": "code",
   "execution_count": 9,
   "id": "f69c8d21-10fa-45cd-8be7-ebadadbaa54b",
   "metadata": {},
   "outputs": [],
   "source": [
    "import numpy as np\n",
    "import pandas as pd\n",
    "\n",
    "stockdata = {tick:pd.read_csv(f'{tick}.csv')[::-1] for tick in stocks}\n",
    "cryptodata = {tick:pd.read_csv(f'{tick}.csv') for tick in cryptos}\n",
    "\n",
    "stockDate = stockdata['AAPL']['date'].values.tolist()\n",
    "cryptoDate = cryptodata['ETH-USD']['Time'].values.tolist()\n",
    "\n",
    "closeStock = np.array([stockdata[i]['adjClose'].values.tolist() for i in stocks]).T.tolist()\n",
    "closeCrypto = np.array([cryptodata[i]['Close'].values.tolist() for i in cryptos]).T.tolist()\n",
    "\n",
    "cryptoDate = list(map(lambda u: u.split(' ')[0], cryptoDate))\n",
    "\n",
    "dataset = []\n",
    "for i, j in enumerate(cryptoDate):\n",
    "    if j in stockDate:\n",
    "        k = stockDate.index(j)\n",
    "        dataset.append(closeStock[k] + closeCrypto[i])\n",
    "\n",
    "dataset = np.array(dataset)\n",
    "\n",
    "ror = dataset[1:]/dataset[:-1] - 1.0"
   ]
  },
  {
   "cell_type": "code",
   "execution_count": 10,
   "id": "cc635237-c361-45bd-a76c-8e436b77ed34",
   "metadata": {},
   "outputs": [],
   "source": [
    "# Step 1\n",
    "init_weights = np.array([0.25, 0.25, 0.2, 0.2, 0.1])"
   ]
  },
  {
   "cell_type": "code",
   "execution_count": 12,
   "id": "d9d6eef7-2a77-443b-a5c7-4f83ecf11c3f",
   "metadata": {},
   "outputs": [],
   "source": [
    "# Step 2\n",
    "cov = np.cov(ror.T)"
   ]
  },
  {
   "cell_type": "code",
   "execution_count": 13,
   "id": "b859c234-eb58-46d1-b9e0-7ca3256306d4",
   "metadata": {},
   "outputs": [],
   "source": [
    "# Step 3\n",
    "risk_aversion = [1, 2.5, 5]"
   ]
  },
  {
   "cell_type": "code",
   "execution_count": 16,
   "id": "1c909078-1e6f-401c-8992-dbebfc24f66e",
   "metadata": {},
   "outputs": [],
   "source": [
    "# Step 4 ) AAPL, MSFT, NVDA, BTC, ETH\n",
    "P = np.array([[1, 0, 0, -1, 0],\n",
    "              [0, -1, 0, 0, 1],\n",
    "              [-1, 0, 1, 0, 0],\n",
    "              [0, 0, 0, 1, -1],\n",
    "              [0, 1, -1, 0, 0]])\n",
    "\n",
    "msize, nsize = ror.shape\n",
    "\n",
    "Q = (1/msize)*np.ones(msize).dot(ror)"
   ]
  },
  {
   "cell_type": "code",
   "execution_count": 26,
   "id": "b0963ba3-30c4-4d63-b269-602577c75154",
   "metadata": {},
   "outputs": [],
   "source": [
    "# Step 5\n",
    "\n",
    "def PortfolioWeights(ra, sigma, iW, P, Q, tau=0.05):\n",
    "    pi = ra * sigma.dot(iW)\n",
    "    omega = np.diag(P.dot((tau*sigma).dot(P.T)))*np.eye(5)\n",
    "    A = np.linalg.inv(np.linalg.inv(tau*sigma) + P.T.dot(np.linalg.inv(omega).dot(P)))\n",
    "    B = np.linalg.inv(tau*sigma).dot(pi) + P.T.dot(np.linalg.inv(omega).dot(Q))\n",
    "    Er = A.dot(B)\n",
    "    return (1.0/ra) * np.linalg.inv(sigma).dot(Er)\n",
    "\n",
    "\n",
    "#W = PortfolioWeights(2.5, cov, init_weights, P, Q)"
   ]
  },
  {
   "cell_type": "code",
   "execution_count": 46,
   "id": "0a13c511-7c01-4f9c-9119-edc8c44bec96",
   "metadata": {},
   "outputs": [],
   "source": [
    "# Set up data to be plotted with risk/return\n",
    "\n",
    "def MaxSharpe(covar, average):\n",
    "    top = np.linalg.inv(cov).dot(average)\n",
    "    bot = np.ones(len(average)).dot(top)\n",
    "    weight = top / bot\n",
    "    return weight\n",
    "\n",
    "m, n = ror.shape\n",
    "mu = (1/m)*np.ones(m).dot(ror)\n",
    "cv = (1/(m-1))*(ror - mu).T.dot(ror - mu)\n",
    "\n",
    "sd = np.sqrt(np.diag(cv))\n",
    "\n",
    "Wshp = MaxSharpe(cv, mu)"
   ]
  },
  {
   "cell_type": "code",
   "execution_count": 47,
   "id": "4bf953e3-7876-4509-a808-459aae86c4f3",
   "metadata": {},
   "outputs": [
    {
     "data": {
      "image/png": "[encoded data removed]",
      "text/plain": [
       "<Figure size 640x480 with 1 Axes>"
      ]
     },
     "metadata": {},
     "output_type": "display_data"
    }
   ],
   "source": [
    "import matplotlib.pyplot as plt\n",
    "\n",
    "fig = plt.figure()\n",
    "ax = fig.add_subplot(111)\n",
    "\n",
    "ax.scatter(sd, mu, color='black', s=6)\n",
    "for i, (ix, iy) in enumerate(zip(sd, mu)):\n",
    "    ax.annotate(both[i], xy=(ix, iy))\n",
    "\n",
    "W1 = PortfolioWeights(1.0, cov, init_weights, P, Q)\n",
    "W2 = PortfolioWeights(2.5, cov, init_weights, P, Q)\n",
    "W3 = PortfolioWeights(5.0, cov, init_weights, P, Q)\n",
    "\n",
    "risk_low = np.sqrt(W1.T.dot(cv.dot(W1)))\n",
    "return_low = W1.T.dot(mu)\n",
    "\n",
    "ax.scatter(risk_low, return_low, color='green')\n",
    "ax.annotate('Low Risk Aversion', xy=(risk_low, return_low))\n",
    "\n",
    "risk_mid = np.sqrt(W2.T.dot(cv.dot(W2)))\n",
    "return_mid = W2.T.dot(mu)\n",
    "\n",
    "ax.scatter(risk_mid, return_mid, color='orange')\n",
    "ax.annotate('Mid Risk Aversion', xy=(risk_mid, return_mid))\n",
    "\n",
    "risk_high = np.sqrt(W3.T.dot(cv.dot(W3)))\n",
    "return_high = W3.T.dot(mu)\n",
    "\n",
    "ax.scatter(risk_high, return_high, color='red')\n",
    "ax.annotate('High Risk Aversion', xy=(risk_high, return_high))\n",
    "\n",
    "risk_sharpe = np.sqrt(Wshp.T.dot(cv.dot(Wshp)))\n",
    "return_sharpe = Wshp.T.dot(mu)\n",
    "\n",
    "ax.scatter(risk_sharpe, return_sharpe, color='blue')\n",
    "ax.annotate('MaxSharpe', xy=(risk_sharpe, return_sharpe))\n",
    "\n",
    "plt.show()\n",
    "    "
   ]
  },
  {
   "cell_type": "code",
   "execution_count": null,
   "id": "7b5343f5-b671-4310-9aae-d773317e1f82",
   "metadata": {},
   "outputs": [],
   "source": []
  }
 ],
 "metadata": {
  "kernelspec": {
   "display_name": "Python 3 (ipykernel)",
   "language": "python",
   "name": "python3"
  },
  "language_info": {
   "codemirror_mode": {
    "name": "ipython",
    "version": 3
   },
   "file_extension": ".py",
   "mimetype": "text/x-python",
   "name": "python",
   "nbconvert_exporter": "python",
   "pygments_lexer": "ipython3",
   "version": "3.11.11"
  }
 },
 "nbformat": 4,
 "nbformat_minor": 5
}
